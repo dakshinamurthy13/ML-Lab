{
 "cells": [
  {
   "cell_type": "code",
   "execution_count": 2,
   "id": "5875cd9f",
   "metadata": {},
   "outputs": [
    {
     "name": "stderr",
     "output_type": "stream",
     "text": [
      "c:\\users\\l\\appdata\\local\\programs\\python\\python38\\lib\\site-packages\\tqdm\\auto.py:22: TqdmWarning: IProgress not found. Please update jupyter and ipywidgets. See https://ipywidgets.readthedocs.io/en/stable/user_install.html\n",
      "  from .autonotebook import tqdm as notebook_tqdm\n"
     ]
    }
   ],
   "source": [
    "from pgmpy.models import BayesianModel\n",
    "from pgmpy.factors.discrete import TabularCPD\n",
    "from pgmpy.inference import VariableElimination"
   ]
  },
  {
   "cell_type": "code",
   "execution_count": 3,
   "id": "f09a880c",
   "metadata": {},
   "outputs": [
    {
     "name": "stdout",
     "output_type": "stream",
     "text": [
      "Bayesian network models are :\n",
      "\t ['Pollution', 'Cancer', 'Smoker', 'Xray', 'Dyspnoea']\n",
      "Bayesian edges are:\n",
      "\t [('Pollution', 'Cancer'), ('Cancer', 'Xray'), ('Cancer', 'Dyspnoea'), ('Smoker', 'Cancer')]\n"
     ]
    },
    {
     "name": "stderr",
     "output_type": "stream",
     "text": [
      "c:\\users\\l\\appdata\\local\\programs\\python\\python38\\lib\\site-packages\\pgmpy\\models\\BayesianModel.py:8: FutureWarning: BayesianModel has been renamed to BayesianNetwork. Please use BayesianNetwork class, BayesianModel will be removed in future.\n",
      "  warnings.warn(\n"
     ]
    }
   ],
   "source": [
    "cancer_model=BayesianModel([('Pollution','Cancer'),('Smoker','Cancer'),('Cancer','Xray'),('Cancer','Dyspnoea')])\n",
    "print('Bayesian network models are :')\n",
    "print('\\t',cancer_model.nodes())\n",
    "print('Bayesian edges are:')\n",
    "print('\\t',cancer_model.edges())"
   ]
  },
  {
   "cell_type": "code",
   "execution_count": 4,
   "id": "9df863c0",
   "metadata": {},
   "outputs": [],
   "source": [
    "cpd_poll = TabularCPD(variable='Pollution', variable_card=2,\n",
    "                      values=[[0.9], [0.1]])\n",
    "cpd_smoke = TabularCPD(variable='Smoker', variable_card=2,\n",
    "                       values=[[0.3], [0.7]])\n",
    "cpd_cancer = TabularCPD(variable='Cancer', variable_card=2,\n",
    "                        values=[[0.03, 0.05, 0.001, 0.02],\n",
    "                                [0.97, 0.95, 0.999, 0.98]],\n",
    "                        evidence=['Smoker', 'Pollution'],\n",
    "                        evidence_card=[2, 2])\n",
    "cpd_xray = TabularCPD(variable='Xray', variable_card=2,\n",
    "                      values=[[0.9, 0.2], [0.1, 0.8]],\n",
    "                      evidence=['Cancer'], evidence_card=[2])\n",
    "cpd_dysp = TabularCPD(variable='Dyspnoea', variable_card=2,\n",
    "                      values=[[0.65, 0.3], [0.35, 0.7]],\n",
    "                      evidence=['Cancer'], evidence_card=[2])"
   ]
  },
  {
   "cell_type": "code",
   "execution_count": 5,
   "id": "bc9cadea",
   "metadata": {},
   "outputs": [
    {
     "data": {
      "text/plain": [
       "True"
      ]
     },
     "execution_count": 5,
     "metadata": {},
     "output_type": "execute_result"
    }
   ],
   "source": [
    "# Associating the parameters with the model structure.\n",
    "cancer_model.add_cpds(cpd_poll, cpd_smoke, cpd_cancer, cpd_xray, cpd_dysp)\n",
    "\n",
    "# Checking if the cpds are valid for the model.\n",
    "cancer_model.check_model()"
   ]
  },
  {
   "cell_type": "code",
   "execution_count": 6,
   "id": "24d362ab",
   "metadata": {},
   "outputs": [],
   "source": [
    "cancer_infer=VariableElimination(cancer_model)"
   ]
  },
  {
   "cell_type": "code",
   "execution_count": 7,
   "id": "347a1859",
   "metadata": {},
   "outputs": [
    {
     "name": "stdout",
     "output_type": "stream",
     "text": [
      "All local independecies are as follows\n",
      "Displaying CPDs\n",
      "+--------------+-----+\n",
      "| Pollution(0) | 0.9 |\n",
      "+--------------+-----+\n",
      "| Pollution(1) | 0.1 |\n",
      "+--------------+-----+\n",
      "+-----------+-----+\n",
      "| Smoker(0) | 0.3 |\n",
      "+-----------+-----+\n",
      "| Smoker(1) | 0.7 |\n",
      "+-----------+-----+\n",
      "+-----------+--------------+--------------+--------------+--------------+\n",
      "| Smoker    | Smoker(0)    | Smoker(0)    | Smoker(1)    | Smoker(1)    |\n",
      "+-----------+--------------+--------------+--------------+--------------+\n",
      "| Pollution | Pollution(0) | Pollution(1) | Pollution(0) | Pollution(1) |\n",
      "+-----------+--------------+--------------+--------------+--------------+\n",
      "| Cancer(0) | 0.03         | 0.05         | 0.001        | 0.02         |\n",
      "+-----------+--------------+--------------+--------------+--------------+\n",
      "| Cancer(1) | 0.97         | 0.95         | 0.999        | 0.98         |\n",
      "+-----------+--------------+--------------+--------------+--------------+\n",
      "+---------+-----------+-----------+\n",
      "| Cancer  | Cancer(0) | Cancer(1) |\n",
      "+---------+-----------+-----------+\n",
      "| Xray(0) | 0.9       | 0.2       |\n",
      "+---------+-----------+-----------+\n",
      "| Xray(1) | 0.1       | 0.8       |\n",
      "+---------+-----------+-----------+\n",
      "+-------------+-----------+-----------+\n",
      "| Cancer      | Cancer(0) | Cancer(1) |\n",
      "+-------------+-----------+-----------+\n",
      "| Dyspnoea(0) | 0.65      | 0.3       |\n",
      "+-------------+-----------+-----------+\n",
      "| Dyspnoea(1) | 0.35      | 0.7       |\n",
      "+-------------+-----------+-----------+\n"
     ]
    }
   ],
   "source": [
    "print('All local independecies are as follows')\n",
    "cancer_model.get_independencies()\n",
    "print('Displaying CPDs')\n",
    "print(cancer_model.get_cpds('Pollution'))\n",
    "print(cancer_model.get_cpds('Smoker'))\n",
    "print(cancer_model.get_cpds('Cancer'))\n",
    "print(cancer_model.get_cpds('Xray'))\n",
    "print(cancer_model.get_cpds('Dyspnoea'))"
   ]
  },
  {
   "cell_type": "code",
   "execution_count": 8,
   "id": "451afa62",
   "metadata": {},
   "outputs": [
    {
     "name": "stdout",
     "output_type": "stream",
     "text": [
      "\n",
      " Probablity of Cancer given smoker\n"
     ]
    },
    {
     "name": "stderr",
     "output_type": "stream",
     "text": [
      "Finding Elimination Order: : 100%|██████████████████████████████████████████████████████| 1/1 [00:00<00:00, 204.92it/s]\n",
      "Eliminating: Pollution: 100%|███████████████████████████████████████████████████████████| 1/1 [00:00<00:00, 173.43it/s]"
     ]
    },
    {
     "name": "stdout",
     "output_type": "stream",
     "text": [
      "+-----------+---------------+\n",
      "| Cancer    |   phi(Cancer) |\n",
      "+===========+===============+\n",
      "| Cancer(0) |        0.0029 |\n",
      "+-----------+---------------+\n",
      "| Cancer(1) |        0.9971 |\n",
      "+-----------+---------------+\n"
     ]
    },
    {
     "name": "stderr",
     "output_type": "stream",
     "text": [
      "\n"
     ]
    }
   ],
   "source": [
    "print('\\n Probablity of Cancer given smoker')\n",
    "q=cancer_infer.query(variables=['Cancer'],evidence={'Smoker':1})\n",
    "print(q)"
   ]
  },
  {
   "cell_type": "code",
   "execution_count": 9,
   "id": "ce0256ec",
   "metadata": {},
   "outputs": [
    {
     "name": "stdout",
     "output_type": "stream",
     "text": [
      "\n",
      " Probablity of Cancer given smoker\n"
     ]
    },
    {
     "name": "stderr",
     "output_type": "stream",
     "text": [
      "Finding Elimination Order: : : 0it [00:00, ?it/s]\n",
      "0it [00:00, ?it/s]"
     ]
    },
    {
     "name": "stdout",
     "output_type": "stream",
     "text": [
      "+-----------+---------------+\n",
      "| Cancer    |   phi(Cancer) |\n",
      "+===========+===============+\n",
      "| Cancer(0) |        0.0200 |\n",
      "+-----------+---------------+\n",
      "| Cancer(1) |        0.9800 |\n",
      "+-----------+---------------+\n"
     ]
    },
    {
     "name": "stderr",
     "output_type": "stream",
     "text": [
      "\n"
     ]
    }
   ],
   "source": [
    "print('\\n Probablity of Cancer given smoker')\n",
    "q=cancer_infer.query(variables=['Cancer'],evidence={'Smoker':1,'Pollution':1})\n",
    "print(q)"
   ]
  },
  {
   "cell_type": "code",
   "execution_count": null,
   "id": "42124306",
   "metadata": {},
   "outputs": [],
   "source": []
  }
 ],
 "metadata": {
  "kernelspec": {
   "display_name": "Python 3 (ipykernel)",
   "language": "python",
   "name": "python3"
  },
  "language_info": {
   "codemirror_mode": {
    "name": "ipython",
    "version": 3
   },
   "file_extension": ".py",
   "mimetype": "text/x-python",
   "name": "python",
   "nbconvert_exporter": "python",
   "pygments_lexer": "ipython3",
   "version": "3.8.10"
  }
 },
 "nbformat": 4,
 "nbformat_minor": 5
}
