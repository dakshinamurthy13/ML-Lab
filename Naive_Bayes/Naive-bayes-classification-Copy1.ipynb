{
 "cells": [
  {
   "cell_type": "code",
   "execution_count": 61,
   "id": "2670b3f8",
   "metadata": {},
   "outputs": [],
   "source": [
    "import numpy as np\n",
    "import pandas as pd\n",
    "from sklearn.naive_bayes import MultinomialNB"
   ]
  },
  {
   "cell_type": "code",
   "execution_count": 62,
   "id": "e666954d",
   "metadata": {},
   "outputs": [],
   "source": [
    "clf = MultinomialNB()\n",
    "data=pd.read_csv('data3.csv')"
   ]
  },
  {
   "cell_type": "code",
   "execution_count": 63,
   "id": "1e0a150e",
   "metadata": {},
   "outputs": [],
   "source": [
    "df = pd.read_csv('data3.csv', usecols = [\"radius_mean\",\"texture_mean\",\"perimeter_mean\",\"smoothness_mean\",\"compactness_mean\",\"symmetry_mean\",\"fractal_dimension_mean\"])\n",
    "df=df.drop(range(400,569))"
   ]
  },
  {
   "cell_type": "code",
   "execution_count": 64,
   "id": "3816bff0",
   "metadata": {},
   "outputs": [
    {
     "data": {
      "text/plain": [
       "(400,)"
      ]
     },
     "execution_count": 64,
     "metadata": {},
     "output_type": "execute_result"
    }
   ],
   "source": [
    "targetLabel=\"diagnosis\"\n",
    "target=data[targetLabel]\n",
    "target=np.array(target)\n",
    "tar=[]\n",
    "for t in target:\n",
    "    if t == \"M\":\n",
    "        tar.append(1)\n",
    "    else:\n",
    "        tar.append(0)\n",
    "tar=np.array(tar)\n",
    "tar=tar[:400]\n",
    "tar.shape"
   ]
  },
  {
   "cell_type": "code",
   "execution_count": 65,
   "id": "251386b2",
   "metadata": {},
   "outputs": [
    {
     "data": {
      "text/plain": [
       "(400, 7)"
      ]
     },
     "execution_count": 65,
     "metadata": {},
     "output_type": "execute_result"
    }
   ],
   "source": [
    "df.shape"
   ]
  },
  {
   "cell_type": "code",
   "execution_count": 66,
   "id": "9f9dd34f",
   "metadata": {},
   "outputs": [
    {
     "data": {
      "text/plain": [
       "MultinomialNB()"
      ]
     },
     "execution_count": 66,
     "metadata": {},
     "output_type": "execute_result"
    }
   ],
   "source": [
    "clf.fit(df,tar)"
   ]
  },
  {
   "cell_type": "code",
   "execution_count": 67,
   "id": "cc884b63",
   "metadata": {},
   "outputs": [],
   "source": [
    "df2 = pd.read_csv('data3.csv', usecols = [\"radius_mean\",\"texture_mean\",\"perimeter_mean\",\"smoothness_mean\",\"compactness_mean\",\"symmetry_mean\",\"fractal_dimension_mean\"])\n",
    "df2=df2.drop(range(0,400))"
   ]
  },
  {
   "cell_type": "code",
   "execution_count": 68,
   "id": "d0fcb642",
   "metadata": {},
   "outputs": [
    {
     "data": {
      "text/plain": [
       "(169,)"
      ]
     },
     "execution_count": 68,
     "metadata": {},
     "output_type": "execute_result"
    }
   ],
   "source": [
    "targetLabel=\"diagnosis\"\n",
    "target=data[targetLabel]\n",
    "target=np.array(target)\n",
    "tar2=[]\n",
    "for t in target:\n",
    "    if t == \"M\":\n",
    "        tar2.append(1)\n",
    "    else:\n",
    "        tar2.append(0)\n",
    "tar2=np.array(tar2)\n",
    "tar2=tar2[400:]\n",
    "tar2.shape"
   ]
  },
  {
   "cell_type": "code",
   "execution_count": 69,
   "id": "05c6f85d",
   "metadata": {},
   "outputs": [
    {
     "name": "stdout",
     "output_type": "stream",
     "text": [
      "0.757396449704142\n"
     ]
    }
   ],
   "source": [
    "print(\"This is the accuracy\")\n",
    "print(clf.score(df2,tar2))"
   ]
  }
 ],
 "metadata": {
  "kernelspec": {
   "display_name": "Python 3 (ipykernel)",
   "language": "python",
   "name": "python3"
  },
  "language_info": {
   "codemirror_mode": {
    "name": "ipython",
    "version": 3
   },
   "file_extension": ".py",
   "mimetype": "text/x-python",
   "name": "python",
   "nbconvert_exporter": "python",
   "pygments_lexer": "ipython3",
   "version": "3.8.10"
  }
 },
 "nbformat": 4,
 "nbformat_minor": 5
}
