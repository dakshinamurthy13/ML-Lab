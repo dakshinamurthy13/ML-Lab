{
 "cells": [
  {
   "cell_type": "code",
   "execution_count": 67,
   "id": "e7174ee4",
   "metadata": {},
   "outputs": [],
   "source": [
    "import pandas as pd\n",
    "import numpy as np\n",
    "from sklearn.model_selection import train_test_split\n",
    "from sklearn.naive_bayes import GaussianNB\n",
    "from sklearn import preprocessing\n",
    "from sklearn import metrics"
   ]
  },
  {
   "cell_type": "code",
   "execution_count": 68,
   "id": "b4c78fc9",
   "metadata": {},
   "outputs": [],
   "source": [
    "le=preprocessing.LabelEncoder()\n",
    "targetEncoder=preprocessing.LabelEncoder()\n",
    "clf = GaussianNB()\n",
    "data=pd.read_csv('drug200.csv')"
   ]
  },
  {
   "cell_type": "code",
   "execution_count": 69,
   "id": "b5b65790",
   "metadata": {},
   "outputs": [
    {
     "data": {
      "text/plain": [
       "['Age', 'Sex', 'BP', 'Cholesterol', 'Na_to_K']"
      ]
     },
     "execution_count": 69,
     "metadata": {},
     "output_type": "execute_result"
    }
   ],
   "source": [
    "features=[feat for feat in data]\n",
    "targetLabel=features[-1]\n",
    "features.remove(features[-1])\n",
    "features"
   ]
  },
  {
   "cell_type": "code",
   "execution_count": 70,
   "id": "310fcb09",
   "metadata": {},
   "outputs": [],
   "source": [
    "features.remove('Na_to_K')\n",
    "features.remove('Age')"
   ]
  },
  {
   "cell_type": "code",
   "execution_count": 71,
   "id": "bd4a9384",
   "metadata": {},
   "outputs": [
    {
     "data": {
      "text/plain": [
       "['Sex', 'BP', 'Cholesterol']"
      ]
     },
     "execution_count": 71,
     "metadata": {},
     "output_type": "execute_result"
    }
   ],
   "source": [
    "features"
   ]
  },
  {
   "cell_type": "code",
   "execution_count": 72,
   "id": "c20a2cb4",
   "metadata": {},
   "outputs": [
    {
     "data": {
      "text/plain": [
       "['F', 'M', 'HIGH', 'LOW', 'NORMAL']"
      ]
     },
     "execution_count": 72,
     "metadata": {},
     "output_type": "execute_result"
    }
   ],
   "source": [
    "diff_values=[]\n",
    "for f in features:\n",
    "    for v in data[f]:\n",
    "        if v not in diff_values:\n",
    "            diff_values.append(v)\n",
    "\n",
    "diff_values"
   ]
  },
  {
   "cell_type": "code",
   "execution_count": 73,
   "id": "78712934",
   "metadata": {},
   "outputs": [
    {
     "data": {
      "text/plain": [
       "array([[23, 'F', 'HIGH', 'HIGH'],\n",
       "       [47, 'M', 'LOW', 'HIGH'],\n",
       "       [47, 'M', 'LOW', 'HIGH'],\n",
       "       [28, 'F', 'NORMAL', 'HIGH'],\n",
       "       [61, 'F', 'LOW', 'HIGH'],\n",
       "       [22, 'F', 'NORMAL', 'HIGH'],\n",
       "       [49, 'F', 'NORMAL', 'HIGH'],\n",
       "       [41, 'M', 'LOW', 'HIGH'],\n",
       "       [60, 'M', 'NORMAL', 'HIGH'],\n",
       "       [43, 'M', 'LOW', 'NORMAL'],\n",
       "       [47, 'F', 'LOW', 'HIGH'],\n",
       "       [34, 'F', 'HIGH', 'NORMAL'],\n",
       "       [43, 'M', 'LOW', 'HIGH'],\n",
       "       [74, 'F', 'LOW', 'HIGH'],\n",
       "       [50, 'F', 'NORMAL', 'HIGH'],\n",
       "       [16, 'F', 'HIGH', 'NORMAL'],\n",
       "       [69, 'M', 'LOW', 'NORMAL'],\n",
       "       [43, 'M', 'HIGH', 'HIGH'],\n",
       "       [23, 'M', 'LOW', 'HIGH'],\n",
       "       [32, 'F', 'HIGH', 'NORMAL'],\n",
       "       [57, 'M', 'LOW', 'NORMAL'],\n",
       "       [63, 'M', 'NORMAL', 'HIGH'],\n",
       "       [47, 'M', 'LOW', 'NORMAL'],\n",
       "       [48, 'F', 'LOW', 'HIGH'],\n",
       "       [33, 'F', 'LOW', 'HIGH'],\n",
       "       [28, 'F', 'HIGH', 'NORMAL'],\n",
       "       [31, 'M', 'HIGH', 'HIGH'],\n",
       "       [49, 'F', 'NORMAL', 'NORMAL'],\n",
       "       [39, 'F', 'LOW', 'NORMAL'],\n",
       "       [45, 'M', 'LOW', 'HIGH'],\n",
       "       [18, 'F', 'NORMAL', 'NORMAL'],\n",
       "       [74, 'M', 'HIGH', 'HIGH'],\n",
       "       [49, 'M', 'LOW', 'NORMAL'],\n",
       "       [65, 'F', 'HIGH', 'NORMAL'],\n",
       "       [53, 'M', 'NORMAL', 'HIGH'],\n",
       "       [46, 'M', 'NORMAL', 'NORMAL'],\n",
       "       [32, 'M', 'HIGH', 'NORMAL'],\n",
       "       [39, 'M', 'LOW', 'NORMAL'],\n",
       "       [39, 'F', 'NORMAL', 'NORMAL'],\n",
       "       [15, 'M', 'NORMAL', 'HIGH'],\n",
       "       [73, 'F', 'NORMAL', 'HIGH'],\n",
       "       [58, 'F', 'HIGH', 'NORMAL'],\n",
       "       [50, 'M', 'NORMAL', 'NORMAL'],\n",
       "       [23, 'M', 'NORMAL', 'HIGH'],\n",
       "       [50, 'F', 'NORMAL', 'NORMAL'],\n",
       "       [66, 'F', 'NORMAL', 'NORMAL'],\n",
       "       [37, 'F', 'HIGH', 'HIGH'],\n",
       "       [68, 'M', 'LOW', 'HIGH'],\n",
       "       [23, 'M', 'NORMAL', 'HIGH'],\n",
       "       [28, 'F', 'LOW', 'HIGH'],\n",
       "       [58, 'F', 'HIGH', 'HIGH'],\n",
       "       [67, 'M', 'NORMAL', 'NORMAL'],\n",
       "       [62, 'M', 'LOW', 'NORMAL'],\n",
       "       [24, 'F', 'HIGH', 'NORMAL'],\n",
       "       [68, 'F', 'HIGH', 'NORMAL'],\n",
       "       [26, 'F', 'LOW', 'HIGH'],\n",
       "       [65, 'M', 'HIGH', 'NORMAL'],\n",
       "       [40, 'M', 'HIGH', 'HIGH'],\n",
       "       [60, 'M', 'NORMAL', 'NORMAL'],\n",
       "       [34, 'M', 'HIGH', 'HIGH'],\n",
       "       [38, 'F', 'LOW', 'NORMAL'],\n",
       "       [24, 'M', 'HIGH', 'NORMAL'],\n",
       "       [67, 'M', 'LOW', 'NORMAL'],\n",
       "       [45, 'M', 'LOW', 'NORMAL'],\n",
       "       [60, 'F', 'HIGH', 'HIGH'],\n",
       "       [68, 'F', 'NORMAL', 'NORMAL'],\n",
       "       [29, 'M', 'HIGH', 'HIGH'],\n",
       "       [17, 'M', 'NORMAL', 'NORMAL'],\n",
       "       [54, 'M', 'NORMAL', 'HIGH'],\n",
       "       [18, 'F', 'HIGH', 'NORMAL'],\n",
       "       [70, 'M', 'HIGH', 'HIGH'],\n",
       "       [28, 'F', 'NORMAL', 'HIGH'],\n",
       "       [24, 'F', 'NORMAL', 'HIGH'],\n",
       "       [41, 'F', 'NORMAL', 'NORMAL'],\n",
       "       [31, 'M', 'HIGH', 'NORMAL'],\n",
       "       [26, 'M', 'LOW', 'NORMAL'],\n",
       "       [36, 'F', 'HIGH', 'HIGH'],\n",
       "       [26, 'F', 'HIGH', 'NORMAL'],\n",
       "       [19, 'F', 'HIGH', 'HIGH'],\n",
       "       [32, 'F', 'LOW', 'NORMAL'],\n",
       "       [60, 'M', 'HIGH', 'HIGH'],\n",
       "       [64, 'M', 'NORMAL', 'HIGH'],\n",
       "       [32, 'F', 'LOW', 'HIGH'],\n",
       "       [38, 'F', 'HIGH', 'NORMAL'],\n",
       "       [47, 'F', 'LOW', 'HIGH'],\n",
       "       [59, 'M', 'HIGH', 'HIGH'],\n",
       "       [51, 'F', 'NORMAL', 'HIGH'],\n",
       "       [69, 'M', 'LOW', 'HIGH'],\n",
       "       [37, 'F', 'HIGH', 'NORMAL'],\n",
       "       [50, 'F', 'NORMAL', 'NORMAL'],\n",
       "       [62, 'M', 'NORMAL', 'HIGH'],\n",
       "       [41, 'M', 'HIGH', 'NORMAL'],\n",
       "       [29, 'F', 'HIGH', 'HIGH'],\n",
       "       [42, 'F', 'LOW', 'NORMAL'],\n",
       "       [56, 'M', 'LOW', 'HIGH'],\n",
       "       [36, 'M', 'LOW', 'NORMAL'],\n",
       "       [58, 'F', 'LOW', 'HIGH'],\n",
       "       [56, 'F', 'HIGH', 'HIGH'],\n",
       "       [20, 'M', 'HIGH', 'NORMAL'],\n",
       "       [15, 'F', 'HIGH', 'NORMAL'],\n",
       "       [31, 'M', 'HIGH', 'NORMAL'],\n",
       "       [45, 'F', 'HIGH', 'HIGH'],\n",
       "       [28, 'F', 'LOW', 'HIGH'],\n",
       "       [56, 'M', 'NORMAL', 'HIGH'],\n",
       "       [22, 'M', 'HIGH', 'NORMAL'],\n",
       "       [37, 'M', 'LOW', 'NORMAL'],\n",
       "       [22, 'M', 'NORMAL', 'HIGH'],\n",
       "       [42, 'M', 'LOW', 'HIGH'],\n",
       "       [72, 'M', 'HIGH', 'NORMAL'],\n",
       "       [23, 'M', 'NORMAL', 'HIGH'],\n",
       "       [50, 'M', 'HIGH', 'HIGH'],\n",
       "       [47, 'F', 'NORMAL', 'NORMAL'],\n",
       "       [35, 'M', 'LOW', 'NORMAL'],\n",
       "       [65, 'F', 'LOW', 'NORMAL'],\n",
       "       [20, 'F', 'NORMAL', 'NORMAL'],\n",
       "       [51, 'M', 'HIGH', 'HIGH'],\n",
       "       [67, 'M', 'NORMAL', 'NORMAL'],\n",
       "       [40, 'F', 'NORMAL', 'HIGH'],\n",
       "       [32, 'F', 'HIGH', 'NORMAL'],\n",
       "       [61, 'F', 'HIGH', 'HIGH'],\n",
       "       [28, 'M', 'NORMAL', 'HIGH'],\n",
       "       [15, 'M', 'HIGH', 'NORMAL'],\n",
       "       [34, 'M', 'NORMAL', 'HIGH'],\n",
       "       [36, 'F', 'NORMAL', 'HIGH'],\n",
       "       [53, 'F', 'HIGH', 'NORMAL'],\n",
       "       [19, 'F', 'HIGH', 'NORMAL'],\n",
       "       [66, 'M', 'HIGH', 'HIGH'],\n",
       "       [35, 'M', 'NORMAL', 'NORMAL'],\n",
       "       [47, 'M', 'LOW', 'NORMAL'],\n",
       "       [32, 'F', 'NORMAL', 'HIGH'],\n",
       "       [70, 'F', 'NORMAL', 'HIGH'],\n",
       "       [52, 'M', 'LOW', 'NORMAL'],\n",
       "       [49, 'M', 'LOW', 'NORMAL'],\n",
       "       [24, 'M', 'NORMAL', 'HIGH'],\n",
       "       [42, 'F', 'HIGH', 'HIGH'],\n",
       "       [74, 'M', 'LOW', 'NORMAL'],\n",
       "       [55, 'F', 'HIGH', 'HIGH'],\n",
       "       [35, 'F', 'HIGH', 'HIGH'],\n",
       "       [51, 'M', 'HIGH', 'NORMAL'],\n",
       "       [69, 'F', 'NORMAL', 'HIGH'],\n",
       "       [49, 'M', 'HIGH', 'NORMAL'],\n",
       "       [64, 'F', 'LOW', 'NORMAL'],\n",
       "       [60, 'M', 'HIGH', 'NORMAL'],\n",
       "       [74, 'M', 'HIGH', 'NORMAL'],\n",
       "       [39, 'M', 'HIGH', 'HIGH'],\n",
       "       [61, 'M', 'NORMAL', 'HIGH'],\n",
       "       [37, 'F', 'LOW', 'NORMAL'],\n",
       "       [26, 'F', 'HIGH', 'NORMAL'],\n",
       "       [61, 'F', 'LOW', 'NORMAL'],\n",
       "       [22, 'M', 'LOW', 'HIGH'],\n",
       "       [49, 'M', 'HIGH', 'NORMAL'],\n",
       "       [68, 'M', 'HIGH', 'HIGH'],\n",
       "       [55, 'M', 'NORMAL', 'NORMAL'],\n",
       "       [72, 'F', 'LOW', 'NORMAL'],\n",
       "       [37, 'M', 'LOW', 'NORMAL'],\n",
       "       [49, 'M', 'LOW', 'HIGH'],\n",
       "       [31, 'M', 'HIGH', 'NORMAL'],\n",
       "       [53, 'M', 'LOW', 'HIGH'],\n",
       "       [59, 'F', 'LOW', 'HIGH'],\n",
       "       [34, 'F', 'LOW', 'NORMAL'],\n",
       "       [30, 'F', 'NORMAL', 'HIGH'],\n",
       "       [57, 'F', 'HIGH', 'NORMAL'],\n",
       "       [43, 'M', 'NORMAL', 'NORMAL'],\n",
       "       [21, 'F', 'HIGH', 'NORMAL'],\n",
       "       [16, 'M', 'HIGH', 'NORMAL'],\n",
       "       [38, 'M', 'LOW', 'HIGH'],\n",
       "       [58, 'F', 'LOW', 'HIGH'],\n",
       "       [57, 'F', 'NORMAL', 'HIGH'],\n",
       "       [51, 'F', 'LOW', 'NORMAL'],\n",
       "       [20, 'F', 'HIGH', 'HIGH'],\n",
       "       [28, 'F', 'NORMAL', 'HIGH'],\n",
       "       [45, 'M', 'LOW', 'NORMAL'],\n",
       "       [39, 'F', 'NORMAL', 'NORMAL'],\n",
       "       [41, 'F', 'LOW', 'NORMAL'],\n",
       "       [42, 'M', 'HIGH', 'NORMAL'],\n",
       "       [73, 'F', 'HIGH', 'HIGH'],\n",
       "       [48, 'M', 'HIGH', 'NORMAL'],\n",
       "       [25, 'M', 'NORMAL', 'HIGH'],\n",
       "       [39, 'M', 'NORMAL', 'HIGH'],\n",
       "       [67, 'F', 'NORMAL', 'HIGH'],\n",
       "       [22, 'F', 'HIGH', 'NORMAL'],\n",
       "       [59, 'F', 'NORMAL', 'HIGH'],\n",
       "       [20, 'F', 'LOW', 'NORMAL'],\n",
       "       [36, 'F', 'HIGH', 'NORMAL'],\n",
       "       [18, 'F', 'HIGH', 'HIGH'],\n",
       "       [57, 'F', 'NORMAL', 'NORMAL'],\n",
       "       [70, 'M', 'HIGH', 'HIGH'],\n",
       "       [47, 'M', 'HIGH', 'HIGH'],\n",
       "       [65, 'M', 'HIGH', 'NORMAL'],\n",
       "       [64, 'M', 'HIGH', 'NORMAL'],\n",
       "       [58, 'M', 'HIGH', 'HIGH'],\n",
       "       [23, 'M', 'HIGH', 'HIGH'],\n",
       "       [72, 'M', 'LOW', 'HIGH'],\n",
       "       [72, 'M', 'LOW', 'HIGH'],\n",
       "       [46, 'F', 'HIGH', 'HIGH'],\n",
       "       [56, 'F', 'LOW', 'HIGH'],\n",
       "       [16, 'M', 'LOW', 'HIGH'],\n",
       "       [52, 'M', 'NORMAL', 'HIGH'],\n",
       "       [23, 'M', 'NORMAL', 'NORMAL'],\n",
       "       [40, 'F', 'LOW', 'NORMAL']], dtype=object)"
      ]
     },
     "execution_count": 73,
     "metadata": {},
     "output_type": "execute_result"
    }
   ],
   "source": [
    "dataArray=np.array(data.iloc[:,0:-2])\n",
    "dataArray"
   ]
  },
  {
   "cell_type": "code",
   "execution_count": 74,
   "id": "1d1013a3",
   "metadata": {},
   "outputs": [
    {
     "data": {
      "text/plain": [
       "['F', 'HIGH', 'LOW', 'M', 'NORMAL']"
      ]
     },
     "execution_count": 74,
     "metadata": {},
     "output_type": "execute_result"
    }
   ],
   "source": [
    "le.fit(diff_values)\n",
    "listOfValues=list(le.classes_)\n",
    "listOfValues"
   ]
  },
  {
   "cell_type": "code",
   "execution_count": 75,
   "id": "9cc357a0",
   "metadata": {},
   "outputs": [
    {
     "data": {
      "text/plain": [
       "[[23, 0, 1, 1],\n",
       " [47, 3, 2, 1],\n",
       " [47, 3, 2, 1],\n",
       " [28, 0, 4, 1],\n",
       " [61, 0, 2, 1],\n",
       " [22, 0, 4, 1],\n",
       " [49, 0, 4, 1],\n",
       " [41, 3, 2, 1],\n",
       " [60, 3, 4, 1],\n",
       " [43, 3, 2, 4],\n",
       " [47, 0, 2, 1],\n",
       " [34, 0, 1, 4],\n",
       " [43, 3, 2, 1],\n",
       " [74, 0, 2, 1],\n",
       " [50, 0, 4, 1],\n",
       " [16, 0, 1, 4],\n",
       " [69, 3, 2, 4],\n",
       " [43, 3, 1, 1],\n",
       " [23, 3, 2, 1],\n",
       " [32, 0, 1, 4],\n",
       " [57, 3, 2, 4],\n",
       " [63, 3, 4, 1],\n",
       " [47, 3, 2, 4],\n",
       " [48, 0, 2, 1],\n",
       " [33, 0, 2, 1],\n",
       " [28, 0, 1, 4],\n",
       " [31, 3, 1, 1],\n",
       " [49, 0, 4, 4],\n",
       " [39, 0, 2, 4],\n",
       " [45, 3, 2, 1],\n",
       " [18, 0, 4, 4],\n",
       " [74, 3, 1, 1],\n",
       " [49, 3, 2, 4],\n",
       " [65, 0, 1, 4],\n",
       " [53, 3, 4, 1],\n",
       " [46, 3, 4, 4],\n",
       " [32, 3, 1, 4],\n",
       " [39, 3, 2, 4],\n",
       " [39, 0, 4, 4],\n",
       " [15, 3, 4, 1],\n",
       " [73, 0, 4, 1],\n",
       " [58, 0, 1, 4],\n",
       " [50, 3, 4, 4],\n",
       " [23, 3, 4, 1],\n",
       " [50, 0, 4, 4],\n",
       " [66, 0, 4, 4],\n",
       " [37, 0, 1, 1],\n",
       " [68, 3, 2, 1],\n",
       " [23, 3, 4, 1],\n",
       " [28, 0, 2, 1],\n",
       " [58, 0, 1, 1],\n",
       " [67, 3, 4, 4],\n",
       " [62, 3, 2, 4],\n",
       " [24, 0, 1, 4],\n",
       " [68, 0, 1, 4],\n",
       " [26, 0, 2, 1],\n",
       " [65, 3, 1, 4],\n",
       " [40, 3, 1, 1],\n",
       " [60, 3, 4, 4],\n",
       " [34, 3, 1, 1],\n",
       " [38, 0, 2, 4],\n",
       " [24, 3, 1, 4],\n",
       " [67, 3, 2, 4],\n",
       " [45, 3, 2, 4],\n",
       " [60, 0, 1, 1],\n",
       " [68, 0, 4, 4],\n",
       " [29, 3, 1, 1],\n",
       " [17, 3, 4, 4],\n",
       " [54, 3, 4, 1],\n",
       " [18, 0, 1, 4],\n",
       " [70, 3, 1, 1],\n",
       " [28, 0, 4, 1],\n",
       " [24, 0, 4, 1],\n",
       " [41, 0, 4, 4],\n",
       " [31, 3, 1, 4],\n",
       " [26, 3, 2, 4],\n",
       " [36, 0, 1, 1],\n",
       " [26, 0, 1, 4],\n",
       " [19, 0, 1, 1],\n",
       " [32, 0, 2, 4],\n",
       " [60, 3, 1, 1],\n",
       " [64, 3, 4, 1],\n",
       " [32, 0, 2, 1],\n",
       " [38, 0, 1, 4],\n",
       " [47, 0, 2, 1],\n",
       " [59, 3, 1, 1],\n",
       " [51, 0, 4, 1],\n",
       " [69, 3, 2, 1],\n",
       " [37, 0, 1, 4],\n",
       " [50, 0, 4, 4],\n",
       " [62, 3, 4, 1],\n",
       " [41, 3, 1, 4],\n",
       " [29, 0, 1, 1],\n",
       " [42, 0, 2, 4],\n",
       " [56, 3, 2, 1],\n",
       " [36, 3, 2, 4],\n",
       " [58, 0, 2, 1],\n",
       " [56, 0, 1, 1],\n",
       " [20, 3, 1, 4],\n",
       " [15, 0, 1, 4],\n",
       " [31, 3, 1, 4],\n",
       " [45, 0, 1, 1],\n",
       " [28, 0, 2, 1],\n",
       " [56, 3, 4, 1],\n",
       " [22, 3, 1, 4],\n",
       " [37, 3, 2, 4],\n",
       " [22, 3, 4, 1],\n",
       " [42, 3, 2, 1],\n",
       " [72, 3, 1, 4],\n",
       " [23, 3, 4, 1],\n",
       " [50, 3, 1, 1],\n",
       " [47, 0, 4, 4],\n",
       " [35, 3, 2, 4],\n",
       " [65, 0, 2, 4],\n",
       " [20, 0, 4, 4],\n",
       " [51, 3, 1, 1],\n",
       " [67, 3, 4, 4],\n",
       " [40, 0, 4, 1],\n",
       " [32, 0, 1, 4],\n",
       " [61, 0, 1, 1],\n",
       " [28, 3, 4, 1],\n",
       " [15, 3, 1, 4],\n",
       " [34, 3, 4, 1],\n",
       " [36, 0, 4, 1],\n",
       " [53, 0, 1, 4],\n",
       " [19, 0, 1, 4],\n",
       " [66, 3, 1, 1],\n",
       " [35, 3, 4, 4],\n",
       " [47, 3, 2, 4],\n",
       " [32, 0, 4, 1],\n",
       " [70, 0, 4, 1],\n",
       " [52, 3, 2, 4],\n",
       " [49, 3, 2, 4],\n",
       " [24, 3, 4, 1],\n",
       " [42, 0, 1, 1],\n",
       " [74, 3, 2, 4],\n",
       " [55, 0, 1, 1],\n",
       " [35, 0, 1, 1],\n",
       " [51, 3, 1, 4],\n",
       " [69, 0, 4, 1],\n",
       " [49, 3, 1, 4],\n",
       " [64, 0, 2, 4],\n",
       " [60, 3, 1, 4],\n",
       " [74, 3, 1, 4],\n",
       " [39, 3, 1, 1],\n",
       " [61, 3, 4, 1],\n",
       " [37, 0, 2, 4],\n",
       " [26, 0, 1, 4],\n",
       " [61, 0, 2, 4],\n",
       " [22, 3, 2, 1],\n",
       " [49, 3, 1, 4],\n",
       " [68, 3, 1, 1],\n",
       " [55, 3, 4, 4],\n",
       " [72, 0, 2, 4],\n",
       " [37, 3, 2, 4],\n",
       " [49, 3, 2, 1],\n",
       " [31, 3, 1, 4],\n",
       " [53, 3, 2, 1],\n",
       " [59, 0, 2, 1],\n",
       " [34, 0, 2, 4],\n",
       " [30, 0, 4, 1],\n",
       " [57, 0, 1, 4],\n",
       " [43, 3, 4, 4],\n",
       " [21, 0, 1, 4],\n",
       " [16, 3, 1, 4],\n",
       " [38, 3, 2, 1],\n",
       " [58, 0, 2, 1],\n",
       " [57, 0, 4, 1],\n",
       " [51, 0, 2, 4],\n",
       " [20, 0, 1, 1],\n",
       " [28, 0, 4, 1],\n",
       " [45, 3, 2, 4],\n",
       " [39, 0, 4, 4],\n",
       " [41, 0, 2, 4],\n",
       " [42, 3, 1, 4],\n",
       " [73, 0, 1, 1],\n",
       " [48, 3, 1, 4],\n",
       " [25, 3, 4, 1],\n",
       " [39, 3, 4, 1],\n",
       " [67, 0, 4, 1],\n",
       " [22, 0, 1, 4],\n",
       " [59, 0, 4, 1],\n",
       " [20, 0, 2, 4],\n",
       " [36, 0, 1, 4],\n",
       " [18, 0, 1, 1],\n",
       " [57, 0, 4, 4],\n",
       " [70, 3, 1, 1],\n",
       " [47, 3, 1, 1],\n",
       " [65, 3, 1, 4],\n",
       " [64, 3, 1, 4],\n",
       " [58, 3, 1, 1],\n",
       " [23, 3, 1, 1],\n",
       " [72, 3, 2, 1],\n",
       " [72, 3, 2, 1],\n",
       " [46, 0, 1, 1],\n",
       " [56, 0, 2, 1],\n",
       " [16, 3, 2, 1],\n",
       " [52, 3, 4, 1],\n",
       " [23, 3, 4, 4],\n",
       " [40, 0, 2, 4]]"
      ]
     },
     "execution_count": 75,
     "metadata": {},
     "output_type": "execute_result"
    }
   ],
   "source": [
    "trans=[]\n",
    "for d in dataArray:\n",
    "    inter=[]\n",
    "    for a in d:\n",
    "        if a in listOfValues:\n",
    "            dummy=[]\n",
    "            dummy.append(a)\n",
    "            inter.append(le.transform(dummy)[0])\n",
    "        else:\n",
    "            inter.append(a)\n",
    "    trans.append(inter)\n",
    "trans"
   ]
  },
  {
   "cell_type": "code",
   "execution_count": 76,
   "id": "8123658d",
   "metadata": {},
   "outputs": [
    {
     "name": "stdout",
     "output_type": "stream",
     "text": [
      "[23  0  1  1] [49  3  2  4]\n"
     ]
    }
   ],
   "source": [
    "trans=np.array(trans)\n",
    "trans.shape[0]\n",
    "int(trans.shape[0]/3)\n",
    "trans_train=trans[0:2*int(trans.shape[0]/3)]\n",
    "trans_test=trans[2*int(trans.shape[0]/3):]\n",
    "print(trans_train[0],trans_test[0])"
   ]
  },
  {
   "cell_type": "code",
   "execution_count": 77,
   "id": "7e5759c5",
   "metadata": {},
   "outputs": [
    {
     "data": {
      "text/plain": [
       "0      DrugY\n",
       "1      drugC\n",
       "2      drugC\n",
       "3      drugX\n",
       "4      DrugY\n",
       "       ...  \n",
       "195    drugC\n",
       "196    drugC\n",
       "197    drugX\n",
       "198    drugX\n",
       "199    drugX\n",
       "Name: Drug, Length: 200, dtype: object"
      ]
     },
     "execution_count": 77,
     "metadata": {},
     "output_type": "execute_result"
    }
   ],
   "source": [
    "target=data[targetLabel]\n",
    "target"
   ]
  },
  {
   "cell_type": "code",
   "execution_count": 78,
   "id": "cb4aed96",
   "metadata": {},
   "outputs": [
    {
     "data": {
      "text/plain": [
       "array(['DrugY', 'drugC', 'drugC', 'drugX', 'DrugY', 'drugX', 'DrugY',\n",
       "       'drugC', 'DrugY', 'DrugY', 'drugC', 'DrugY', 'DrugY', 'DrugY',\n",
       "       'drugX', 'DrugY', 'drugX', 'drugA', 'drugC', 'DrugY', 'DrugY',\n",
       "       'DrugY', 'DrugY', 'DrugY', 'DrugY', 'DrugY', 'DrugY', 'drugX',\n",
       "       'DrugY', 'DrugY', 'drugX', 'drugB', 'drugX', 'DrugY', 'drugX',\n",
       "       'drugX', 'drugA', 'drugX', 'drugX', 'drugX', 'DrugY', 'drugB',\n",
       "       'DrugY', 'drugX', 'drugX', 'drugX', 'drugA', 'drugC', 'DrugY',\n",
       "       'DrugY', 'DrugY', 'drugX', 'DrugY', 'DrugY', 'drugB', 'drugC',\n",
       "       'drugB', 'DrugY', 'drugX', 'DrugY', 'DrugY', 'drugA', 'DrugY',\n",
       "       'drugX', 'drugB', 'DrugY', 'drugA', 'drugX', 'DrugY', 'DrugY',\n",
       "       'drugB', 'DrugY', 'drugX', 'DrugY', 'DrugY', 'DrugY', 'drugA',\n",
       "       'DrugY', 'drugA', 'drugX', 'drugB', 'drugX', 'drugC', 'drugA',\n",
       "       'drugC', 'drugB', 'drugX', 'DrugY', 'DrugY', 'DrugY', 'DrugY',\n",
       "       'DrugY', 'DrugY', 'DrugY', 'DrugY', 'drugX', 'DrugY', 'DrugY',\n",
       "       'DrugY', 'DrugY', 'drugA', 'drugA', 'drugC', 'drugX', 'DrugY',\n",
       "       'drugX', 'drugX', 'DrugY', 'drugB', 'DrugY', 'drugA', 'drugX',\n",
       "       'drugX', 'drugX', 'drugX', 'DrugY', 'drugX', 'drugX', 'drugA',\n",
       "       'DrugY', 'DrugY', 'DrugY', 'DrugY', 'DrugY', 'drugB', 'DrugY',\n",
       "       'DrugY', 'drugX', 'DrugY', 'drugX', 'DrugY', 'DrugY', 'drugX',\n",
       "       'DrugY', 'DrugY', 'drugX', 'drugB', 'drugA', 'drugB', 'drugX',\n",
       "       'drugA', 'DrugY', 'drugB', 'DrugY', 'drugA', 'drugX', 'drugX',\n",
       "       'drugA', 'drugX', 'drugC', 'drugA', 'drugB', 'drugX', 'drugX',\n",
       "       'DrugY', 'drugC', 'drugA', 'DrugY', 'drugC', 'drugX', 'drugX',\n",
       "       'drugB', 'drugX', 'DrugY', 'DrugY', 'DrugY', 'DrugY', 'drugX',\n",
       "       'DrugY', 'drugA', 'drugX', 'drugX', 'DrugY', 'DrugY', 'drugA',\n",
       "       'DrugY', 'drugA', 'DrugY', 'DrugY', 'DrugY', 'DrugY', 'drugX',\n",
       "       'drugX', 'DrugY', 'DrugY', 'DrugY', 'drugB', 'drugA', 'DrugY',\n",
       "       'DrugY', 'DrugY', 'drugA', 'DrugY', 'drugC', 'DrugY', 'drugC',\n",
       "       'drugC', 'drugX', 'drugX', 'drugX'], dtype=object)"
      ]
     },
     "execution_count": 78,
     "metadata": {},
     "output_type": "execute_result"
    }
   ],
   "source": [
    "target=np.array(target)\n",
    "target"
   ]
  },
  {
   "cell_type": "code",
   "execution_count": 79,
   "id": "97d51406",
   "metadata": {},
   "outputs": [
    {
     "data": {
      "text/plain": [
       "['DrugY', 'drugC', 'drugX', 'drugA', 'drugB']"
      ]
     },
     "execution_count": 79,
     "metadata": {},
     "output_type": "execute_result"
    }
   ],
   "source": [
    "target_values=[]\n",
    "for t in target:\n",
    "    if t not in target_values:\n",
    "        target_values.append(t)\n",
    "target_values"
   ]
  },
  {
   "cell_type": "code",
   "execution_count": 80,
   "id": "a6a7375e",
   "metadata": {},
   "outputs": [
    {
     "data": {
      "text/plain": [
       "['DrugY', 'drugA', 'drugB', 'drugC', 'drugX']"
      ]
     },
     "execution_count": 80,
     "metadata": {},
     "output_type": "execute_result"
    }
   ],
   "source": [
    "targetEncoder.fit(target_values)\n",
    "list(targetEncoder.classes_)"
   ]
  },
  {
   "cell_type": "code",
   "execution_count": 81,
   "id": "2276097d",
   "metadata": {},
   "outputs": [
    {
     "data": {
      "text/plain": [
       "(132,)"
      ]
     },
     "execution_count": 81,
     "metadata": {},
     "output_type": "execute_result"
    }
   ],
   "source": [
    "trans_target=targetEncoder.transform(target)\n",
    "trans_target\n",
    "target_train=trans_target[0:2*int(trans.shape[0]/3)]\n",
    "target_test=trans_target[2*int(trans.shape[0]/3):]\n",
    "target_train.shape"
   ]
  },
  {
   "cell_type": "code",
   "execution_count": 82,
   "id": "f792c4e4",
   "metadata": {},
   "outputs": [
    {
     "data": {
      "text/plain": [
       "GaussianNB()"
      ]
     },
     "execution_count": 82,
     "metadata": {},
     "output_type": "execute_result"
    }
   ],
   "source": [
    "clf.fit(trans_train,target_train)"
   ]
  },
  {
   "cell_type": "code",
   "execution_count": 83,
   "id": "e69282c4",
   "metadata": {},
   "outputs": [
    {
     "data": {
      "text/plain": [
       "array([[40,  0,  2,  4]])"
      ]
     },
     "execution_count": 83,
     "metadata": {},
     "output_type": "execute_result"
    }
   ],
   "source": [
    "predicting=[40, 0, 2, 4]\n",
    "pre_array=np.reshape(predicting,(1,4))\n",
    "pre_array"
   ]
  },
  {
   "cell_type": "code",
   "execution_count": 84,
   "id": "d84720b8",
   "metadata": {},
   "outputs": [
    {
     "name": "stdout",
     "output_type": "stream",
     "text": [
      "[[0.82255272 0.         0.         0.         0.17744728]]\n"
     ]
    },
    {
     "data": {
      "text/plain": [
       "array(['DrugY'], dtype='<U5')"
      ]
     },
     "execution_count": 84,
     "metadata": {},
     "output_type": "execute_result"
    }
   ],
   "source": [
    "ans=clf.predict(pre_array)\n",
    "prob=clf.predict_proba(pre_array)\n",
    "print(prob)\n",
    "targetEncoder.inverse_transform(ans)"
   ]
  },
  {
   "cell_type": "code",
   "execution_count": 85,
   "id": "29e5904b",
   "metadata": {},
   "outputs": [
    {
     "data": {
      "text/plain": [
       "0.5441176470588235"
      ]
     },
     "execution_count": 85,
     "metadata": {},
     "output_type": "execute_result"
    }
   ],
   "source": [
    "clf.score(trans_test,target_test)"
   ]
  },
  {
   "cell_type": "code",
   "execution_count": null,
   "id": "5d280f0c",
   "metadata": {},
   "outputs": [],
   "source": []
  }
 ],
 "metadata": {
  "kernelspec": {
   "display_name": "Python 3 (ipykernel)",
   "language": "python",
   "name": "python3"
  },
  "language_info": {
   "codemirror_mode": {
    "name": "ipython",
    "version": 3
   },
   "file_extension": ".py",
   "mimetype": "text/x-python",
   "name": "python",
   "nbconvert_exporter": "python",
   "pygments_lexer": "ipython3",
   "version": "3.9.7"
  }
 },
 "nbformat": 4,
 "nbformat_minor": 5
}
